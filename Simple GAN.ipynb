{
 "cells": [
  {
   "cell_type": "code",
   "execution_count": 1,
   "id": "de45861d",
   "metadata": {},
   "outputs": [
    {
     "name": "stderr",
     "output_type": "stream",
     "text": [
      "Matplotlib is building the font cache; this may take a moment.\n"
     ]
    }
   ],
   "source": [
    "import torch\n",
    "from torch import nn\n",
    "\n",
    "import math\n",
    "import matplotlib.pyplot as plt"
   ]
  },
  {
   "cell_type": "code",
   "execution_count": 2,
   "id": "534904fd",
   "metadata": {},
   "outputs": [
    {
     "data": {
      "text/plain": [
       "<torch._C.Generator at 0x7febd08eac90>"
      ]
     },
     "execution_count": 2,
     "metadata": {},
     "output_type": "execute_result"
    }
   ],
   "source": [
    "torch.manual_seed(111)"
   ]
  },
  {
   "cell_type": "code",
   "execution_count": 3,
   "id": "346e238e",
   "metadata": {},
   "outputs": [],
   "source": [
    "train_data_length = 1024\n",
    "train_data = torch.zeros((train_data_length, 2))\n",
    "train_data[:, 0] = 2 * math.pi * torch.rand(train_data_length)\n",
    "train_data[:, 1] = torch.sin(train_data[:, 0])\n",
    "train_labels = torch.zeros(train_data_length)\n",
    "train_set = [\n",
    "    (train_data[i], train_labels[i]) for i in range(train_data_length)\n",
    "]"
   ]
  },
  {
   "cell_type": "code",
   "execution_count": 4,
   "id": "cdb7d28d",
   "metadata": {},
   "outputs": [
    {
     "data": {
      "text/plain": [
       "[<matplotlib.lines.Line2D at 0x7febd2a8cca0>]"
      ]
     },
     "execution_count": 4,
     "metadata": {},
     "output_type": "execute_result"
    },
    {
     "data": {
      "image/png": "[encoded data removed]",
      "text/plain": [
       "<Figure size 432x288 with 1 Axes>"
      ]
     },
     "metadata": {
      "needs_background": "light"
     },
     "output_type": "display_data"
    }
   ],
   "source": [
    "plt.plot(train_data[:, 0], train_data[:, 1], \".\")"
   ]
  },
  {
   "cell_type": "code",
   "execution_count": 5,
   "id": "b4ed78a8",
   "metadata": {},
   "outputs": [],
   "source": [
    "batch_size = 32\n",
    "train_loader = torch.utils.data.DataLoader(\n",
    "    train_set, batch_size=batch_size, shuffle=True\n",
    ")"
   ]
  },
  {
   "cell_type": "code",
   "execution_count": 6,
   "id": "f4821dc9",
   "metadata": {},
   "outputs": [],
   "source": [
    "class Discriminator(nn.Module):\n",
    "    def __init__(self):\n",
    "        super().__init__()\n",
    "        self.model = nn.Sequential(\n",
    "            nn.Linear(2, 256),\n",
    "            nn.ReLU(),\n",
    "            nn.Dropout(0.3),\n",
    "            nn.Linear(256, 128),\n",
    "            nn.ReLU(),\n",
    "            nn.Dropout(0.3),\n",
    "            nn.Linear(128, 64),\n",
    "            nn.ReLU(),\n",
    "            nn.Dropout(0.3),\n",
    "            nn.Linear(64, 1),\n",
    "            nn.Sigmoid(),\n",
    "        )\n",
    "\n",
    "    def forward(self, x):\n",
    "        output = self.model(x)\n",
    "        return output"
   ]
  },
  {
   "cell_type": "code",
   "execution_count": 7,
   "id": "7291f03b",
   "metadata": {},
   "outputs": [],
   "source": [
    "discriminator = Discriminator()"
   ]
  },
  {
   "cell_type": "code",
   "execution_count": 8,
   "id": "95d8262b",
   "metadata": {},
   "outputs": [],
   "source": [
    "class Generator(nn.Module):\n",
    "    def __init__(self):\n",
    "        super().__init__()\n",
    "        self.model = nn.Sequential(\n",
    "            nn.Linear(2, 16),\n",
    "            nn.ReLU(),\n",
    "            nn.Linear(16, 32),\n",
    "            nn.ReLU(),\n",
    "            nn.Linear(32, 2),\n",
    "        )\n",
    "\n",
    "    def forward(self, x):\n",
    "        output = self.model(x)\n",
    "        return output"
   ]
  },
  {
   "cell_type": "code",
   "execution_count": 9,
   "id": "35ae59ce",
   "metadata": {},
   "outputs": [],
   "source": [
    "generator = Generator()"
   ]
  },
  {
   "cell_type": "code",
   "execution_count": 10,
   "id": "745fa6ad",
   "metadata": {},
   "outputs": [],
   "source": [
    "lr = 0.001\n",
    "num_epochs = 300\n",
    "loss_function = nn.BCELoss()"
   ]
  },
  {
   "cell_type": "code",
   "execution_count": 11,
   "id": "1467b630",
   "metadata": {},
   "outputs": [],
   "source": [
    "optimizer_discriminator = torch.optim.Adam(discriminator.parameters(), lr=lr)\n",
    "optimizer_generator = torch.optim.Adam(generator.parameters(), lr=lr)"
   ]
  },
  {
   "cell_type": "code",
   "execution_count": 12,
   "id": "246ba1f7",
   "metadata": {},
   "outputs": [
    {
     "name": "stdout",
     "output_type": "stream",
     "text": [
      "Epoch: 0 Loss D.: 0.15663038194179535\n",
      "Epoch: 0 Loss G.: 2.1256043910980225\n",
      "Epoch: 10 Loss D.: 0.6571138501167297\n",
      "Epoch: 10 Loss G.: 0.8178414702415466\n",
      "Epoch: 20 Loss D.: 0.6383628845214844\n",
      "Epoch: 20 Loss G.: 0.9057260751724243\n",
      "Epoch: 30 Loss D.: 0.59872967004776\n",
      "Epoch: 30 Loss G.: 0.7265846729278564\n",
      "Epoch: 40 Loss D.: 0.607196569442749\n",
      "Epoch: 40 Loss G.: 0.747387707233429\n",
      "Epoch: 50 Loss D.: 0.6520012617111206\n",
      "Epoch: 50 Loss G.: 0.8308240175247192\n",
      "Epoch: 60 Loss D.: 0.69268399477005\n",
      "Epoch: 60 Loss G.: 0.7017871737480164\n",
      "Epoch: 70 Loss D.: 0.7220638990402222\n",
      "Epoch: 70 Loss G.: 0.7281138896942139\n",
      "Epoch: 80 Loss D.: 0.6826226711273193\n",
      "Epoch: 80 Loss G.: 0.6805168986320496\n",
      "Epoch: 90 Loss D.: 0.6530492305755615\n",
      "Epoch: 90 Loss G.: 0.7535091638565063\n",
      "Epoch: 100 Loss D.: 0.6849632263183594\n",
      "Epoch: 100 Loss G.: 0.7417536973953247\n",
      "Epoch: 110 Loss D.: 0.6993071436882019\n",
      "Epoch: 110 Loss G.: 0.6938921809196472\n",
      "Epoch: 120 Loss D.: 0.6608849763870239\n",
      "Epoch: 120 Loss G.: 0.7120289206504822\n",
      "Epoch: 130 Loss D.: 0.6669123768806458\n",
      "Epoch: 130 Loss G.: 0.6973047256469727\n",
      "Epoch: 140 Loss D.: 0.6839841604232788\n",
      "Epoch: 140 Loss G.: 0.9187678098678589\n",
      "Epoch: 150 Loss D.: 0.6783294677734375\n",
      "Epoch: 150 Loss G.: 0.7093525528907776\n",
      "Epoch: 160 Loss D.: 0.6797422766685486\n",
      "Epoch: 160 Loss G.: 0.7162689566612244\n",
      "Epoch: 170 Loss D.: 0.6737443208694458\n",
      "Epoch: 170 Loss G.: 0.6897174119949341\n",
      "Epoch: 180 Loss D.: 0.691449761390686\n",
      "Epoch: 180 Loss G.: 0.7022150158882141\n",
      "Epoch: 190 Loss D.: 0.6969447135925293\n",
      "Epoch: 190 Loss G.: 0.7084896564483643\n",
      "Epoch: 200 Loss D.: 0.659086287021637\n",
      "Epoch: 200 Loss G.: 0.6607613563537598\n",
      "Epoch: 210 Loss D.: 0.6710115075111389\n",
      "Epoch: 210 Loss G.: 0.8489441275596619\n",
      "Epoch: 220 Loss D.: 0.6480817198753357\n",
      "Epoch: 220 Loss G.: 0.7832828760147095\n",
      "Epoch: 230 Loss D.: 0.6953645348548889\n",
      "Epoch: 230 Loss G.: 0.6901845335960388\n",
      "Epoch: 240 Loss D.: 0.5943794846534729\n",
      "Epoch: 240 Loss G.: 0.9761648178100586\n",
      "Epoch: 250 Loss D.: 0.6787742972373962\n",
      "Epoch: 250 Loss G.: 0.7576058506965637\n",
      "Epoch: 260 Loss D.: 0.7237225770950317\n",
      "Epoch: 260 Loss G.: 0.7323552370071411\n",
      "Epoch: 270 Loss D.: 0.6753886342048645\n",
      "Epoch: 270 Loss G.: 0.8222521543502808\n",
      "Epoch: 280 Loss D.: 0.6864429116249084\n",
      "Epoch: 280 Loss G.: 0.7232451438903809\n",
      "Epoch: 290 Loss D.: 0.6733273863792419\n",
      "Epoch: 290 Loss G.: 0.9008162021636963\n"
     ]
    }
   ],
   "source": [
    "for epoch in range(num_epochs):\n",
    "    for n, (real_samples, _) in enumerate(train_loader):\n",
    "        # Data for training the discriminator\n",
    "        real_samples_labels = torch.ones((batch_size, 1))\n",
    "        latent_space_samples = torch.randn((batch_size, 2))\n",
    "        generated_samples = generator(latent_space_samples)\n",
    "        generated_samples_labels = torch.zeros((batch_size, 1))\n",
    "        all_samples = torch.cat((real_samples, generated_samples))\n",
    "        all_samples_labels = torch.cat(\n",
    "            (real_samples_labels, generated_samples_labels)\n",
    "        )\n",
    "\n",
    "        # Training the discriminator\n",
    "        discriminator.zero_grad()\n",
    "        output_discriminator = discriminator(all_samples)\n",
    "        loss_discriminator = loss_function(\n",
    "            output_discriminator, all_samples_labels)\n",
    "        loss_discriminator.backward()\n",
    "        optimizer_discriminator.step()\n",
    "\n",
    "        # Data for training the generator\n",
    "        latent_space_samples = torch.randn((batch_size, 2))\n",
    "\n",
    "        # Training the generator\n",
    "        generator.zero_grad()\n",
    "        generated_samples = generator(latent_space_samples)\n",
    "        output_discriminator_generated = discriminator(generated_samples)\n",
    "        loss_generator = loss_function(\n",
    "            output_discriminator_generated, real_samples_labels\n",
    "        )\n",
    "        loss_generator.backward()\n",
    "        optimizer_generator.step()\n",
    "\n",
    "        # Show loss\n",
    "        if epoch % 10 == 0 and n == batch_size - 1:\n",
    "            print(f\"Epoch: {epoch} Loss D.: {loss_discriminator}\")\n",
    "            print(f\"Epoch: {epoch} Loss G.: {loss_generator}\")"
   ]
  },
  {
   "cell_type": "code",
   "execution_count": 13,
   "id": "56115b93",
   "metadata": {},
   "outputs": [],
   "source": [
    "latent_space_samples = torch.randn(100, 2)\n",
    "generated_samples = generator(latent_space_samples)"
   ]
  },
  {
   "cell_type": "code",
   "execution_count": 15,
   "id": "6bf10546",
   "metadata": {},
   "outputs": [
    {
     "data": {
      "text/plain": [
       "[<matplotlib.lines.Line2D at 0x7febd2f618e0>]"
      ]
     },
     "execution_count": 15,
     "metadata": {},
     "output_type": "execute_result"
    },
    {
     "data": {
      "image/png": "[encoded data removed]",
      "text/plain": [
       "<Figure size 432x288 with 1 Axes>"
      ]
     },
     "metadata": {
      "needs_background": "light"
     },
     "output_type": "display_data"
    }
   ],
   "source": [
    "generated_samples = generated_samples.detach()\n",
    "plt.plot(generated_samples[:, 0], generated_samples[:, 1], \".\")"
   ]
  },
  {
   "cell_type": "code",
   "execution_count": null,
   "id": "a89ed2eb",
   "metadata": {},
   "outputs": [],
   "source": []
  }
 ],
 "metadata": {
  "kernelspec": {
   "display_name": "Python 3",
   "language": "python",
   "name": "python3"
  },
  "language_info": {
   "codemirror_mode": {
    "name": "ipython",
    "version": 3
   },
   "file_extension": ".py",
   "mimetype": "text/x-python",
   "name": "python",
   "nbconvert_exporter": "python",
   "pygments_lexer": "ipython3",
   "version": "3.8.10"
  }
 },
 "nbformat": 4,
 "nbformat_minor": 5
}
